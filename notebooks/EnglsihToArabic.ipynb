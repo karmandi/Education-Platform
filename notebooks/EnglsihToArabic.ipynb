{
 "cells": [
  {
   "cell_type": "code",
   "execution_count": 2,
   "id": "7005014f",
   "metadata": {},
   "outputs": [
    {
     "name": "stdout",
     "output_type": "stream",
     "text": [
      "Original Question:  If a bag of chips has 20 servings and you want to eat 1/4 of the bag, how many servings will you eat?\n",
      "Translated Question:  إذا كان كيس من الرقائق يحتوي على 20 خدمة وتريد أن تأكل ربع الحقيبة كم عدد الطرود التي ستأكلها؟\n"
     ]
    }
   ],
   "source": [
    "import pandas as pd\n",
    "from transformers import pipeline\n",
    "\n",
    "# Load the data\n",
    "df=pd.read_excel('DataPi.xlsx')\n",
    "\n",
    "\n",
    "# Select a random question\n",
    "question = df.sample()[\"Question\"].iloc[0]\n",
    "\n",
    "# Initialize the BERT-based translation pipeline for English to Arabic\n",
    "translator = pipeline(\"translation_en_to_ar\", model=\"Helsinki-NLP/opus-mt-en-ar\") \n",
    "\n",
    "# Translate the question to Arabic\n",
    "translated = translator(question)\n",
    "\n",
    "print(\"Original Question: \", question)\n",
    "print(\"Translated Question: \", translated[0][\"translation_text\"])\n"
   ]
  },
  {
   "cell_type": "code",
   "execution_count": null,
   "id": "126e0860",
   "metadata": {},
   "outputs": [],
   "source": []
  }
 ],
 "metadata": {
  "kernelspec": {
   "display_name": "Python 3 (ipykernel)",
   "language": "python",
   "name": "python3"
  },
  "language_info": {
   "codemirror_mode": {
    "name": "ipython",
    "version": 3
   },
   "file_extension": ".py",
   "mimetype": "text/x-python",
   "name": "python",
   "nbconvert_exporter": "python",
   "pygments_lexer": "ipython3",
   "version": "3.9.7"
  }
 },
 "nbformat": 4,
 "nbformat_minor": 5
}
