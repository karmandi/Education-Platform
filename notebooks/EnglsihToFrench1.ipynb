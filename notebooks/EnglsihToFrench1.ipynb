{
 "cells": [
  {
   "cell_type": "code",
   "execution_count": 1,
   "id": "7005014f",
   "metadata": {},
   "outputs": [
    {
     "name": "stderr",
     "output_type": "stream",
     "text": [
      "c:\\Users\\pfeis\\anaconda3\\lib\\site-packages\\transformers\\models\\marian\\tokenization_marian.py:194: UserWarning: Recommended: pip install sacremoses.\n",
      "  warnings.warn(\"Recommended: pip install sacremoses.\")\n"
     ]
    },
    {
     "name": "stdout",
     "output_type": "stream",
     "text": [
      "Original question: A farmer has 2 cherry trees, and each tree produces 25 pounds of cherries. How many pounds of cherries will the farmer harvest in total?\n",
      "Translated question: Un agriculteur a 2 cerisiers, et chaque arbre produit 25 livres de cerises. Combien de livres de cerises l'agriculteur récoltera-t-il au total\n"
     ]
    }
   ],
   "source": [
    "import pandas as pd\n",
    "from transformers import pipeline\n",
    "import sentencepiece\n",
    "\n",
    "\n",
    "df=pd.read_excel('DataPi.xlsx')\n",
    "\n",
    "# Select a random question from the \"Question\" column\n",
    "question = df['Question'].sample().iloc[0]\n",
    "\n",
    "# Define the translator pipeline using BERT\n",
    "translator = pipeline('translation_en_to_fr', model='Helsinki-NLP/opus-mt-en-fr')\n",
    "\n",
    "# Define a function to translate a single sentence\n",
    "def translate_sentence(sentence):\n",
    "    return translator(sentence, max_length=40)[0]['translation_text']\n",
    "\n",
    "# Translate the question to French\n",
    "translated_question = translate_sentence(question)\n",
    "\n",
    "# Print the original and translated questions\n",
    "print(f\"Original question: {question}\")\n",
    "print(f\"Translated question: {translated_question}\")\n"
   ]
  },
  {
   "cell_type": "code",
   "execution_count": null,
   "id": "126e0860",
   "metadata": {},
   "outputs": [],
   "source": []
  }
 ],
 "metadata": {
  "kernelspec": {
   "display_name": "Python 3 (ipykernel)",
   "language": "python",
   "name": "python3"
  },
  "language_info": {
   "codemirror_mode": {
    "name": "ipython",
    "version": 3
   },
   "file_extension": ".py",
   "mimetype": "text/x-python",
   "name": "python",
   "nbconvert_exporter": "python",
   "pygments_lexer": "ipython3",
   "version": "3.9.7"
  }
 },
 "nbformat": 4,
 "nbformat_minor": 5
}
