{
  "cells": [
    {
      "cell_type": "code",
      "execution_count": 3,
      "metadata": {},
      "outputs": [],
      "source": [
        "import random\n",
        "import re\n",
        "import pandas as pd\n",
        "import pyttsx3\n",
        "import random\n",
        "import openpyxl"
      ]
    },
    {
      "cell_type": "code",
      "execution_count": null,
      "metadata": {},
      "outputs": [
        {
          "name": "stderr",
          "output_type": "stream",
          "text": [
            "[nltk_data] Downloading package stopwords to\n",
            "[nltk_data]     C:\\Users\\pfeis\\AppData\\Roaming\\nltk_data...\n",
            "[nltk_data]   Package stopwords is already up-to-date!\n"
          ]
        },
        {
          "name": "stdout",
          "output_type": "stream",
          "text": [
            "Question:  There are 62 rotator cuffs in a bag. If you did folded 3 rotator cuffs, how many rotator cuffs are left in the bag?\n",
            "['62', 'rotator', 'cuffs', 'bag.']\n",
            "['folded', '3', 'rotator', 'cuffs,']\n",
            "Error: 429\n",
            "{'error': {'code': 'rate_limit_exceeded', 'message': 'Rate limit exceeded for images per minute in organization org-0upnrKMpCmHs18XsYvhMFUEI. Limit: 5/1min. Current: 6/1min. Please visit https://help.openai.com/en/articles/6696591 to learn how to increase your rate limit.', 'param': None, 'type': 'requests'}}\n",
            "Error: 429\n",
            "{'error': {'code': 'rate_limit_exceeded', 'message': 'Rate limit exceeded for images per minute in organization org-0upnrKMpCmHs18XsYvhMFUEI. Limit: 5/1min. Current: 6/1min. Please visit https://help.openai.com/en/articles/6696591 to learn how to increase your rate limit.', 'param': None, 'type': 'requests'}}\n",
            "Error: 429\n",
            "{'error': {'code': 'rate_limit_exceeded', 'message': 'Rate limit exceeded for images per minute in organization org-0upnrKMpCmHs18XsYvhMFUEI. Limit: 5/1min. Current: 6/1min. Please visit https://help.openai.com/en/articles/6696591 to learn how to increase your rate limit.', 'param': None, 'type': 'requests'}}\n"
          ]
        }
      ],
      "source": []
    },
    {
      "cell_type": "code",
      "execution_count": 4,
      "metadata": {
        "id": "9jARGqK09opT"
      },
      "outputs": [],
      "source": [
        "my_df = pd.read_excel('miniData.xlsx') "
      ]
    },
    {
      "cell_type": "code",
      "execution_count": 1,
      "metadata": {
        "id": "9cJ5Bhf09_9b"
      },
      "outputs": [
        {
          "ename": "NameError",
          "evalue": "name 'my_df' is not defined",
          "output_type": "error",
          "traceback": [
            "\u001b[1;31m---------------------------------------------------------------------------\u001b[0m",
            "\u001b[1;31mNameError\u001b[0m                                 Traceback (most recent call last)",
            "\u001b[1;32m~\\AppData\\Local\\Temp/ipykernel_15816/3052747631.py\u001b[0m in \u001b[0;36m<module>\u001b[1;34m\u001b[0m\n\u001b[0;32m      1\u001b[0m \u001b[1;31m# Select a random question from the dataset\u001b[0m\u001b[1;33m\u001b[0m\u001b[1;33m\u001b[0m\u001b[0m\n\u001b[1;32m----> 2\u001b[1;33m \u001b[0mrandom_row\u001b[0m \u001b[1;33m=\u001b[0m \u001b[0mmy_df\u001b[0m\u001b[1;33m.\u001b[0m\u001b[0msample\u001b[0m\u001b[1;33m(\u001b[0m\u001b[0mn\u001b[0m\u001b[1;33m=\u001b[0m\u001b[1;36m1\u001b[0m\u001b[1;33m)\u001b[0m\u001b[1;33m.\u001b[0m\u001b[0miloc\u001b[0m\u001b[1;33m[\u001b[0m\u001b[1;36m0\u001b[0m\u001b[1;33m]\u001b[0m\u001b[1;33m\u001b[0m\u001b[1;33m\u001b[0m\u001b[0m\n\u001b[0m\u001b[0;32m      3\u001b[0m \u001b[0mquestion\u001b[0m \u001b[1;33m=\u001b[0m \u001b[0mrandom_row\u001b[0m\u001b[1;33m[\u001b[0m\u001b[1;34m'                                                                                                             Question'\u001b[0m\u001b[1;33m]\u001b[0m\u001b[1;33m\u001b[0m\u001b[1;33m\u001b[0m\u001b[0m\n\u001b[0;32m      4\u001b[0m \u001b[0mcorrect_answer\u001b[0m \u001b[1;33m=\u001b[0m \u001b[0mstr\u001b[0m\u001b[1;33m(\u001b[0m\u001b[0mrandom_row\u001b[0m\u001b[1;33m[\u001b[0m\u001b[1;34m'Answer'\u001b[0m\u001b[1;33m]\u001b[0m\u001b[1;33m)\u001b[0m\u001b[1;33m\u001b[0m\u001b[1;33m\u001b[0m\u001b[0m\n",
            "\u001b[1;31mNameError\u001b[0m: name 'my_df' is not defined"
          ]
        }
      ],
      "source": [
        "# Select a random question from the dataset\n",
        "random_row = my_df.sample(n=1).iloc[0]\n",
        "question = random_row['                                                                                                             Question']\n",
        "correct_answer = str(random_row['Answer'])"
      ]
    },
    {
      "cell_type": "code",
      "execution_count": 6,
      "metadata": {
        "id": "aJZc8iae-p9b"
      },
      "outputs": [],
      "source": [
        "# Extract the solution from the correct answer using regular expressions\n",
        "pattern = r'\\d+'\n",
        "matches = re.findall(pattern, correct_answer)\n",
        "if matches:\n",
        "    solution = int(matches[-1])"
      ]
    },
    {
      "cell_type": "code",
      "execution_count": 8,
      "metadata": {
        "colab": {
          "base_uri": "https://localhost:8080/"
        },
        "id": "VUwWhqyE-4Nc",
        "outputId": "b030f8f9-b26e-4554-b9e3-7818718c6ef5"
      },
      "outputs": [],
      "source": [
        "# Prompt the user to enter their \n",
        "# answer\n",
        "user_answer = input(f\"{question}\\nAnswer: \")"
      ]
    },
    {
      "cell_type": "code",
      "execution_count": 10,
      "metadata": {
        "id": "U4FxZMdccH7y"
      },
      "outputs": [
        {
          "name": "stderr",
          "output_type": "stream",
          "text": [
            "c:\\Users\\pfeis\\anaconda3\\lib\\site-packages\\fuzzywuzzy\\fuzz.py:11: UserWarning: Using slow pure-python SequenceMatcher. Install python-Levenshtein to remove this warning\n",
            "  warnings.warn('Using slow pure-python SequenceMatcher. Install python-Levenshtein to remove this warning')\n"
          ]
        }
      ],
      "source": [
        "from fuzzywuzzy import fuzz"
      ]
    },
    {
      "cell_type": "code",
      "execution_count": 11,
      "metadata": {
        "id": "vlqLlT6-BzWb"
      },
      "outputs": [],
      "source": [
        "from PIL import Image, ImageDraw, ImageFont\n"
      ]
    },
    {
      "cell_type": "code",
      "execution_count": 20,
      "metadata": {
        "id": "fmQCHxS6PPyv"
      },
      "outputs": [],
      "source": [
        "from PIL import Image\n"
      ]
    },
    {
      "cell_type": "code",
      "execution_count": 29,
      "metadata": {},
      "outputs": [],
      "source": [
        "import os\n",
        "from PIL import Image\n",
        "\n",
        "\n",
        "good_image_path = os.path.abspath(\"good.png\")\n",
        "bad_image_path = os.path.abspath(\"bad.jpg\")\n"
      ]
    },
    {
      "cell_type": "code",
      "execution_count": 30,
      "metadata": {},
      "outputs": [],
      "source": [
        "correct_image = Image.open(good_image_path)\n",
        "incorrect_image = Image.open(bad_image_path)"
      ]
    },
    {
      "cell_type": "code",
      "execution_count": 31,
      "metadata": {
        "colab": {
          "base_uri": "https://localhost:8080/",
          "height": 546
        },
        "id": "7DVdGi9-B2OE",
        "outputId": "b6c7fe9e-de41-456d-b0dc-d087ab2216a8"
      },
      "outputs": [
        {
          "name": "stdout",
          "output_type": "stream",
          "text": [
            "Sorry, your answer is incorrect. The correct answer is 69.\n"
          ]
        }
      ],
      "source": [
        "# Check if answer is correct\n",
        "#answer_is_correct = True  # Replace with your code to check if the answer is correct\n",
        "\n",
        "# Set the desired width of the image\n",
        "desired_width = 200\n",
        "\n",
        "# Calculate the proportional height of the image\n",
        "width, height = correct_image.size\n",
        "proportional_height = int((desired_width / float(width)) * float(height))\n",
        "\n",
        "# Resize the images\n",
        "correct_img = correct_image.resize((desired_width, proportional_height))\n",
        "incorrect_img = incorrect_image.resize((desired_width, proportional_height))\n",
        "\n",
        "# Check if the user's answer is correct\n",
        "if user_answer == str(solution):\n",
        "    print(\"Congratulations! Your answer is correct.\")\n",
        "    correct_image.show()\n",
        "else:\n",
        "    # If the user's answer is not an exact match, check if it is similar using fuzzy string matching\n",
        "    from fuzzywuzzy import fuzz\n",
        "    similarity_score = fuzz.partial_ratio(user_answer, str(solution))\n",
        "    if similarity_score >= 80:\n",
        "        print(\"Your answer is close enough to be considered correct.\")\n",
        "    else:\n",
        "        print(f\"Sorry, your answer is incorrect. The correct answer is {solution}.\")\n",
        "        incorrect_image.show()\n",
        "\n",
        "\n",
        "# Show the appropriate image\n",
        "#if answer_is_correct:\n",
        " #   correct_image.show()\n",
        "#else:\n",
        "   # incorrect_image.show()"
      ]
    }
  ],
  "metadata": {
    "colab": {
      "provenance": []
    },
    "kernelspec": {
      "display_name": "Python 3 (ipykernel)",
      "language": "python",
      "name": "python3"
    },
    "language_info": {
      "codemirror_mode": {
        "name": "ipython",
        "version": 3
      },
      "file_extension": ".py",
      "mimetype": "text/x-python",
      "name": "python",
      "nbconvert_exporter": "python",
      "pygments_lexer": "ipython3",
      "version": "3.9.7"
    }
  },
  "nbformat": 4,
  "nbformat_minor": 0
}
