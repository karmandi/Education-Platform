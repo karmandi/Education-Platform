{
 "cells": [
  {
   "cell_type": "code",
   "execution_count": 1,
   "id": "0549baf3",
   "metadata": {},
   "outputs": [
    {
     "name": "stdout",
     "output_type": "stream",
     "text": [
      "Requirement already satisfied: pyttsx3 in c:\\users\\pfeis\\anaconda3\\lib\\site-packages (2.90)\n",
      "Requirement already satisfied: comtypes in c:\\users\\pfeis\\anaconda3\\lib\\site-packages (from pyttsx3) (1.1.10)\n",
      "Requirement already satisfied: pypiwin32 in c:\\users\\pfeis\\anaconda3\\lib\\site-packages (from pyttsx3) (223)\n",
      "Requirement already satisfied: pywin32 in c:\\users\\pfeis\\anaconda3\\lib\\site-packages (from pyttsx3) (228)\n",
      "Note: you may need to restart the kernel to use updated packages.\n"
     ]
    }
   ],
   "source": [
    "pip install pyttsx3\n"
   ]
  },
  {
   "cell_type": "code",
   "execution_count": 2,
   "id": "ef1f3cad",
   "metadata": {},
   "outputs": [],
   "source": [
    "import pyttsx3\n",
    "import random\n",
    "import openpyxl"
   ]
  },
  {
   "cell_type": "code",
   "execution_count": 3,
   "id": "b77d6247",
   "metadata": {},
   "outputs": [
    {
     "name": "stdout",
     "output_type": "stream",
     "text": [
      "d:\\chams\\notebooks\n"
     ]
    }
   ],
   "source": [
    "import os\n",
    "print(os.getcwd())\n",
    "\n"
   ]
  },
  {
   "cell_type": "code",
   "execution_count": 4,
   "id": "4e9d62a7",
   "metadata": {},
   "outputs": [
    {
     "name": "stdout",
     "output_type": "stream",
     "text": [
      "Selected question:\n",
      "Question: A bakery has 40 less than seven times as many loaves of bread as Sam had last Friday. If Sam had seventy loaves of bread last Friday, how many loaves of bread does the bakery have?\n"
     ]
    }
   ],
   "source": [
    " \n",
    "\n",
    "# rest of the code\n",
    "# create a pyttsx3 object with an English accent\n",
    "engine = pyttsx3.init()\n",
    "voices = engine.getProperty('voices')\n",
    "engine.setProperty('voice', voices[1].id)  # 1 is the index of the English voice\n",
    "\n",
    "# set the reading speed to a slower rate\n",
    "rate = engine.getProperty('rate')\n",
    "engine.setProperty('rate', int(rate * 0.75))  # adjust the rate as needed\n",
    "\n",
    "\n",
    "\n",
    "\n",
    "\n",
    "\n",
    "# read the Excel file containing the questions\n",
    "workbook = openpyxl.load_workbook('DataPi.xlsx')\n",
    "sheet = workbook['Sheet1']\n",
    "\n",
    "# get the questions and their corresponding answers and levels\n",
    "questions = []\n",
    "answers = []\n",
    "levels = []\n",
    "for row in sheet.iter_rows(min_row=2, max_col=3, values_only=True):\n",
    "    questions.append(row[0])\n",
    "    answers.append(row[1])\n",
    "    levels.append(row[2])\n",
    "\n",
    "# randomly select a question from the list\n",
    "selected_question = random.choice(questions)\n",
    "\n",
    "# find the row in the worksheet that contains the selected question\n",
    "for i in range(2, sheet.max_row + 1):\n",
    "    if sheet.cell(row=i, column=1).value == selected_question:\n",
    "        break\n",
    "\n",
    "# display the selected question, answer, and level\n",
    "print(\"Selected question:\")\n",
    "print(\"Question:\", selected_question)\n",
    "\n",
    "\n",
    "# use the pyttsx3 engine to speak the selected question aloud\n",
    "engine.say(selected_question)\n",
    "engine.runAndWait()\n"
   ]
  },
  {
   "cell_type": "code",
   "execution_count": null,
   "id": "eebd22ea",
   "metadata": {},
   "outputs": [],
   "source": []
  }
 ],
 "metadata": {
  "kernelspec": {
   "display_name": "Python 3 (ipykernel)",
   "language": "python",
   "name": "python3"
  },
  "language_info": {
   "codemirror_mode": {
    "name": "ipython",
    "version": 3
   },
   "file_extension": ".py",
   "mimetype": "text/x-python",
   "name": "python",
   "nbconvert_exporter": "python",
   "pygments_lexer": "ipython3",
   "version": "3.9.7"
  }
 },
 "nbformat": 4,
 "nbformat_minor": 5
}
