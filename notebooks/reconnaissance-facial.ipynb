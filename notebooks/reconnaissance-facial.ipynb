{
 "cells": [
  {
   "cell_type": "code",
   "execution_count": 15,
   "id": "83afc321",
   "metadata": {},
   "outputs": [
    {
     "name": "stdout",
     "output_type": "stream",
     "text": [
      "Requirement already satisfied: opencv-python in c:\\users\\admin\\anaconda3\\envs\\myenv\\lib\\site-packages (4.7.0.72)\n",
      "Requirement already satisfied: numpy>=1.17.0 in c:\\users\\admin\\anaconda3\\envs\\myenv\\lib\\site-packages (from opencv-python) (1.24.2)\n",
      "Note: you may need to restart the kernel to use updated packages.\n"
     ]
    }
   ],
   "source": [
    "pip install opencv-python"
   ]
  },
  {
   "cell_type": "code",
   "execution_count": 16,
   "id": "a2f6ed1b",
   "metadata": {},
   "outputs": [
    {
     "name": "stdout",
     "output_type": "stream",
     "text": [
      "Please look at the camera for a few seconds...\n",
      "Enter your name: \n",
      "Face saved successfully!\n"
     ]
    }
   ],
   "source": [
    "import cv2\n",
    "import os\n",
    "import face_recognition\n",
    "import numpy as np\n",
    "\n",
    "# Create a directory to store the face images\n",
    "if not os.path.exists('faces'):\n",
    "    os.makedirs('faces')\n",
    "\n",
    "# Open the default camera\n",
    "cap = cv2.VideoCapture(0)\n",
    "\n",
    "# Get a face encoding and save the face image for the new user\n",
    "print(\"Please look at the camera for a few seconds...\")\n",
    "while True:\n",
    "    ret, frame = cap.read()\n",
    "    if not ret:\n",
    "        print(\"Error: Could not read frame from camera\")\n",
    "        break\n",
    "\n",
    "    # Find all the faces in the frame\n",
    "    face_locations = face_recognition.face_locations(frame)\n",
    "\n",
    "    if len(face_locations) == 1:\n",
    "        # Get the face encoding and face image for the first face found\n",
    "        face_encoding = face_recognition.face_encodings(frame, face_locations)[0]\n",
    "        face_image = frame[face_locations[0][0]:face_locations[0][2], face_locations[0][3]:face_locations[0][1]]\n",
    "\n",
    "        # Save the face encoding and face image to files\n",
    "        file_name = input(\"Enter your name: \") + \".npy\"\n",
    "        file_path = os.path.join('faces', file_name)\n",
    "        with open(file_path, 'wb') as f:\n",
    "            np.save(f, face_encoding)\n",
    "        cv2.imwrite(file_path[:-4] + \".jpg\", face_image)\n",
    "        print(\"Face saved successfully!\")\n",
    "        break\n",
    "\n",
    "# Release the camera\n",
    "cap.release()\n",
    "\n",
    "\n"
   ]
  },
  {
   "cell_type": "code",
   "execution_count": 14,
   "id": "90aaaf97",
   "metadata": {},
   "outputs": [
    {
     "name": "stdout",
     "output_type": "stream",
     "text": [
      "Welcome, aziz!\n",
      "Welcome, aziz!\n",
      "Welcome, aziz!\n",
      "Welcome, aziz!\n",
      "Welcome, aziz!\n",
      "Welcome, aziz!\n",
      "Welcome, aziz!\n",
      "Welcome, aziz!\n",
      "Welcome, aziz!\n",
      "Welcome, aziz!\n",
      "Welcome, aziz!\n",
      "Welcome, aziz!\n",
      "Welcome, aziz!\n",
      "Welcome, aziz!\n",
      "Welcome, aziz!\n",
      "Welcome, aziz!\n",
      "Welcome, aziz!\n",
      "Welcome, aziz!\n",
      "Welcome, aziz!\n",
      "Welcome, aziz!\n",
      "Welcome, aziz!\n",
      "Welcome, aziz!\n",
      "Welcome, aziz!\n",
      "Welcome, aziz!\n",
      "Welcome, aziz!\n",
      "Welcome, aziz!\n",
      "Welcome, aziz!\n",
      "Welcome, aziz!\n",
      "Welcome, aziz!\n",
      "Welcome, aziz!\n",
      "Welcome, aziz!\n",
      "Welcome, aziz!\n",
      "Welcome, aziz!\n",
      "Welcome, aziz!\n",
      "Welcome, aziz!\n",
      "Welcome, aziz!\n",
      "Welcome, aziz!\n",
      "Welcome, aziz!\n",
      "Welcome, aziz!\n",
      "Welcome, aziz!\n",
      "Welcome, aziz!\n",
      "Welcome, aziz!\n",
      "Welcome, aziz!\n",
      "Welcome, aziz!\n",
      "Welcome, aziz!\n",
      "Welcome, aziz!\n",
      "Welcome, aziz!\n"
     ]
    },
    {
     "ename": "KeyboardInterrupt",
     "evalue": "",
     "output_type": "error",
     "traceback": [
      "\u001b[1;31m---------------------------------------------------------------------------\u001b[0m",
      "\u001b[1;31mKeyboardInterrupt\u001b[0m                         Traceback (most recent call last)",
      "Cell \u001b[1;32mIn[14], line 11\u001b[0m\n\u001b[0;32m      8\u001b[0m     \u001b[38;5;28;01mbreak\u001b[39;00m\n\u001b[0;32m     10\u001b[0m \u001b[38;5;66;03m# Find all the faces in the frame\u001b[39;00m\n\u001b[1;32m---> 11\u001b[0m face_locations \u001b[38;5;241m=\u001b[39m \u001b[43mface_recognition\u001b[49m\u001b[38;5;241;43m.\u001b[39;49m\u001b[43mface_locations\u001b[49m\u001b[43m(\u001b[49m\u001b[43mframe\u001b[49m\u001b[43m)\u001b[49m\n\u001b[0;32m     12\u001b[0m face_encodings \u001b[38;5;241m=\u001b[39m face_recognition\u001b[38;5;241m.\u001b[39mface_encodings(frame, face_locations)\n\u001b[0;32m     14\u001b[0m \u001b[38;5;28;01mfor\u001b[39;00m face_encoding, face_location \u001b[38;5;129;01min\u001b[39;00m \u001b[38;5;28mzip\u001b[39m(face_encodings, face_locations):\n\u001b[0;32m     15\u001b[0m     \u001b[38;5;66;03m# Compare the face encoding to the saved face encodings\u001b[39;00m\n",
      "File \u001b[1;32m~\\anaconda3\\envs\\myenv\\lib\\site-packages\\face_recognition\\api.py:121\u001b[0m, in \u001b[0;36mface_locations\u001b[1;34m(img, number_of_times_to_upsample, model)\u001b[0m\n\u001b[0;32m    119\u001b[0m     \u001b[38;5;28;01mreturn\u001b[39;00m [_trim_css_to_bounds(_rect_to_css(face\u001b[38;5;241m.\u001b[39mrect), img\u001b[38;5;241m.\u001b[39mshape) \u001b[38;5;28;01mfor\u001b[39;00m face \u001b[38;5;129;01min\u001b[39;00m _raw_face_locations(img, number_of_times_to_upsample, \u001b[38;5;124m\"\u001b[39m\u001b[38;5;124mcnn\u001b[39m\u001b[38;5;124m\"\u001b[39m)]\n\u001b[0;32m    120\u001b[0m \u001b[38;5;28;01melse\u001b[39;00m:\n\u001b[1;32m--> 121\u001b[0m     \u001b[38;5;28;01mreturn\u001b[39;00m [_trim_css_to_bounds(_rect_to_css(face), img\u001b[38;5;241m.\u001b[39mshape) \u001b[38;5;28;01mfor\u001b[39;00m face \u001b[38;5;129;01min\u001b[39;00m \u001b[43m_raw_face_locations\u001b[49m\u001b[43m(\u001b[49m\u001b[43mimg\u001b[49m\u001b[43m,\u001b[49m\u001b[43m \u001b[49m\u001b[43mnumber_of_times_to_upsample\u001b[49m\u001b[43m,\u001b[49m\u001b[43m \u001b[49m\u001b[43mmodel\u001b[49m\u001b[43m)\u001b[49m]\n",
      "File \u001b[1;32m~\\anaconda3\\envs\\myenv\\lib\\site-packages\\face_recognition\\api.py:105\u001b[0m, in \u001b[0;36m_raw_face_locations\u001b[1;34m(img, number_of_times_to_upsample, model)\u001b[0m\n\u001b[0;32m    103\u001b[0m     \u001b[38;5;28;01mreturn\u001b[39;00m cnn_face_detector(img, number_of_times_to_upsample)\n\u001b[0;32m    104\u001b[0m \u001b[38;5;28;01melse\u001b[39;00m:\n\u001b[1;32m--> 105\u001b[0m     \u001b[38;5;28;01mreturn\u001b[39;00m \u001b[43mface_detector\u001b[49m\u001b[43m(\u001b[49m\u001b[43mimg\u001b[49m\u001b[43m,\u001b[49m\u001b[43m \u001b[49m\u001b[43mnumber_of_times_to_upsample\u001b[49m\u001b[43m)\u001b[49m\n",
      "\u001b[1;31mKeyboardInterrupt\u001b[0m: "
     ]
    }
   ],
   "source": [
    "# Login attempt\n",
    "cap = cv2.VideoCapture(0)\n",
    "\n",
    "while True:\n",
    "    ret, frame = cap.read()\n",
    "    if not ret:\n",
    "        print(\"Error: Could not read frame from camera\")\n",
    "        break\n",
    "\n",
    "    # Find all the faces in the frame\n",
    "    face_locations = face_recognition.face_locations(frame)\n",
    "    face_encodings = face_recognition.face_encodings(frame, face_locations)\n",
    "\n",
    "    for face_encoding, face_location in zip(face_encodings, face_locations):\n",
    "        # Compare the face encoding to the saved face encodings\n",
    "        matches = face_recognition.compare_faces(face_encodings, face_encoding)\n",
    "\n",
    "        if True in matches:\n",
    "            # Login successful\n",
    "            matched_name = face_names[matches.index(True)]\n",
    "            print(\"Welcome, {}!\".format(matched_name))\n",
    "            break\n",
    "\n",
    "    if cv2.waitKey(1) & 0xFF == ord('q'):\n",
    "        breakd\n",
    "\n",
    "# Release the camera\n",
    "cap.release()\n",
    "cv2.destroyAllWindows()\n"
   ]
  },
  {
   "cell_type": "code",
   "execution_count": null,
   "id": "4d2288a3",
   "metadata": {},
   "outputs": [],
   "source": []
  }
 ],
 "metadata": {
  "kernelspec": {
   "display_name": "Python 3 (ipykernel)",
   "language": "python",
   "name": "python3"
  },
  "language_info": {
   "codemirror_mode": {
    "name": "ipython",
    "version": 3
   },
   "file_extension": ".py",
   "mimetype": "text/x-python",
   "name": "python",
   "nbconvert_exporter": "python",
   "pygments_lexer": "ipython3",
   "version": "3.10.10"
  }
 },
 "nbformat": 4,
 "nbformat_minor": 5
}
